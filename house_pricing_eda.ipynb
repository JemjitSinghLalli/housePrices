{
 "cells": [
  {
   "cell_type": "code",
   "execution_count": 4,
   "id": "1652690d",
   "metadata": {},
   "outputs": [],
   "source": [
    "import pandas as pd\n",
    "import os\n",
    "import pandas as pd\n",
    "import numpy as np\n",
    "import matplotlib.pyplot as plt\n",
    "import seaborn as sns\n",
    "import warnings\n",
    "warnings.filterwarnings('ignore')"
   ]
  },
  {
   "cell_type": "code",
   "execution_count": 5,
   "id": "512c7e17",
   "metadata": {},
   "outputs": [
    {
     "data": {
      "text/html": [
       "<div>\n",
       "<style scoped>\n",
       "    .dataframe tbody tr th:only-of-type {\n",
       "        vertical-align: middle;\n",
       "    }\n",
       "\n",
       "    .dataframe tbody tr th {\n",
       "        vertical-align: top;\n",
       "    }\n",
       "\n",
       "    .dataframe thead th {\n",
       "        text-align: right;\n",
       "    }\n",
       "</style>\n",
       "<table border=\"1\" class=\"dataframe\">\n",
       "  <thead>\n",
       "    <tr style=\"text-align: right;\">\n",
       "      <th></th>\n",
       "      <th>price</th>\n",
       "      <th>lotsize_sq_ft</th>\n",
       "      <th>bedrooms</th>\n",
       "      <th>bathrooms</th>\n",
       "      <th>stories</th>\n",
       "      <th>driveway</th>\n",
       "      <th>games_room</th>\n",
       "      <th>basement</th>\n",
       "      <th>gas_for_water_heating</th>\n",
       "      <th>air_con</th>\n",
       "      <th>no_garage_places</th>\n",
       "      <th>nice_area</th>\n",
       "    </tr>\n",
       "  </thead>\n",
       "  <tbody>\n",
       "    <tr>\n",
       "      <th>0</th>\n",
       "      <td>42000.0</td>\n",
       "      <td>5850</td>\n",
       "      <td>3</td>\n",
       "      <td>1</td>\n",
       "      <td>2</td>\n",
       "      <td>yes</td>\n",
       "      <td>no</td>\n",
       "      <td>yes</td>\n",
       "      <td>no</td>\n",
       "      <td>no</td>\n",
       "      <td>1</td>\n",
       "      <td>no</td>\n",
       "    </tr>\n",
       "    <tr>\n",
       "      <th>1</th>\n",
       "      <td>38500.0</td>\n",
       "      <td>4000</td>\n",
       "      <td>2</td>\n",
       "      <td>1</td>\n",
       "      <td>1</td>\n",
       "      <td>yes</td>\n",
       "      <td>no</td>\n",
       "      <td>no</td>\n",
       "      <td>no</td>\n",
       "      <td>no</td>\n",
       "      <td>0</td>\n",
       "      <td>no</td>\n",
       "    </tr>\n",
       "    <tr>\n",
       "      <th>2</th>\n",
       "      <td>49500.0</td>\n",
       "      <td>3060</td>\n",
       "      <td>3</td>\n",
       "      <td>1</td>\n",
       "      <td>1</td>\n",
       "      <td>yes</td>\n",
       "      <td>no</td>\n",
       "      <td>no</td>\n",
       "      <td>no</td>\n",
       "      <td>no</td>\n",
       "      <td>0</td>\n",
       "      <td>no</td>\n",
       "    </tr>\n",
       "  </tbody>\n",
       "</table>\n",
       "</div>"
      ],
      "text/plain": [
       "     price  lotsize_sq_ft  bedrooms  bathrooms  stories driveway games_room  \\\n",
       "0  42000.0           5850         3          1        2      yes         no   \n",
       "1  38500.0           4000         2          1        1      yes         no   \n",
       "2  49500.0           3060         3          1        1      yes         no   \n",
       "\n",
       "  basement gas_for_water_heating air_con  no_garage_places nice_area  \n",
       "0      yes                    no      no                 1        no  \n",
       "1       no                    no      no                 0        no  \n",
       "2       no                    no      no                 0        no  "
      ]
     },
     "execution_count": 5,
     "metadata": {},
     "output_type": "execute_result"
    }
   ],
   "source": [
    "data = pd.read_csv(\"C:/Users/lallij/PycharmProjects/housePrices/data/house_pricing.csv\")\n",
    "data.head(3)"
   ]
  },
  {
   "cell_type": "code",
   "execution_count": 6,
   "id": "32579a44",
   "metadata": {},
   "outputs": [
    {
     "data": {
      "text/html": [
       "<div>\n",
       "<style scoped>\n",
       "    .dataframe tbody tr th:only-of-type {\n",
       "        vertical-align: middle;\n",
       "    }\n",
       "\n",
       "    .dataframe tbody tr th {\n",
       "        vertical-align: top;\n",
       "    }\n",
       "\n",
       "    .dataframe thead th {\n",
       "        text-align: right;\n",
       "    }\n",
       "</style>\n",
       "<table border=\"1\" class=\"dataframe\">\n",
       "  <thead>\n",
       "    <tr style=\"text-align: right;\">\n",
       "      <th></th>\n",
       "      <th>price</th>\n",
       "      <th>lotsize_sq_ft</th>\n",
       "      <th>bedrooms</th>\n",
       "      <th>bathrooms</th>\n",
       "      <th>stories</th>\n",
       "      <th>no_garage_places</th>\n",
       "    </tr>\n",
       "  </thead>\n",
       "  <tbody>\n",
       "    <tr>\n",
       "      <th>count</th>\n",
       "      <td>546.000000</td>\n",
       "      <td>546.000000</td>\n",
       "      <td>546.000000</td>\n",
       "      <td>546.000000</td>\n",
       "      <td>546.000000</td>\n",
       "      <td>546.000000</td>\n",
       "    </tr>\n",
       "    <tr>\n",
       "      <th>mean</th>\n",
       "      <td>68121.597070</td>\n",
       "      <td>5150.265568</td>\n",
       "      <td>2.965201</td>\n",
       "      <td>1.285714</td>\n",
       "      <td>1.807692</td>\n",
       "      <td>0.692308</td>\n",
       "    </tr>\n",
       "    <tr>\n",
       "      <th>std</th>\n",
       "      <td>26702.670926</td>\n",
       "      <td>2168.158725</td>\n",
       "      <td>0.737388</td>\n",
       "      <td>0.502158</td>\n",
       "      <td>0.868203</td>\n",
       "      <td>0.861307</td>\n",
       "    </tr>\n",
       "    <tr>\n",
       "      <th>min</th>\n",
       "      <td>25000.000000</td>\n",
       "      <td>1650.000000</td>\n",
       "      <td>1.000000</td>\n",
       "      <td>1.000000</td>\n",
       "      <td>1.000000</td>\n",
       "      <td>0.000000</td>\n",
       "    </tr>\n",
       "    <tr>\n",
       "      <th>25%</th>\n",
       "      <td>49125.000000</td>\n",
       "      <td>3600.000000</td>\n",
       "      <td>2.000000</td>\n",
       "      <td>1.000000</td>\n",
       "      <td>1.000000</td>\n",
       "      <td>0.000000</td>\n",
       "    </tr>\n",
       "    <tr>\n",
       "      <th>50%</th>\n",
       "      <td>62000.000000</td>\n",
       "      <td>4600.000000</td>\n",
       "      <td>3.000000</td>\n",
       "      <td>1.000000</td>\n",
       "      <td>2.000000</td>\n",
       "      <td>0.000000</td>\n",
       "    </tr>\n",
       "    <tr>\n",
       "      <th>75%</th>\n",
       "      <td>82000.000000</td>\n",
       "      <td>6360.000000</td>\n",
       "      <td>3.000000</td>\n",
       "      <td>2.000000</td>\n",
       "      <td>2.000000</td>\n",
       "      <td>1.000000</td>\n",
       "    </tr>\n",
       "    <tr>\n",
       "      <th>max</th>\n",
       "      <td>190000.000000</td>\n",
       "      <td>16200.000000</td>\n",
       "      <td>6.000000</td>\n",
       "      <td>4.000000</td>\n",
       "      <td>4.000000</td>\n",
       "      <td>3.000000</td>\n",
       "    </tr>\n",
       "  </tbody>\n",
       "</table>\n",
       "</div>"
      ],
      "text/plain": [
       "               price  lotsize_sq_ft    bedrooms   bathrooms     stories  \\\n",
       "count     546.000000     546.000000  546.000000  546.000000  546.000000   \n",
       "mean    68121.597070    5150.265568    2.965201    1.285714    1.807692   \n",
       "std     26702.670926    2168.158725    0.737388    0.502158    0.868203   \n",
       "min     25000.000000    1650.000000    1.000000    1.000000    1.000000   \n",
       "25%     49125.000000    3600.000000    2.000000    1.000000    1.000000   \n",
       "50%     62000.000000    4600.000000    3.000000    1.000000    2.000000   \n",
       "75%     82000.000000    6360.000000    3.000000    2.000000    2.000000   \n",
       "max    190000.000000   16200.000000    6.000000    4.000000    4.000000   \n",
       "\n",
       "       no_garage_places  \n",
       "count        546.000000  \n",
       "mean           0.692308  \n",
       "std            0.861307  \n",
       "min            0.000000  \n",
       "25%            0.000000  \n",
       "50%            0.000000  \n",
       "75%            1.000000  \n",
       "max            3.000000  "
      ]
     },
     "execution_count": 6,
     "metadata": {},
     "output_type": "execute_result"
    }
   ],
   "source": [
    "data.describe()"
   ]
  },
  {
   "cell_type": "code",
   "execution_count": null,
   "id": "a9c8c8cf",
   "metadata": {},
   "outputs": [],
   "source": [
    "%matplotlib inline\n",
    "import matplotlib.pyplot as plt"
   ]
  },
  {
   "cell_type": "code",
   "execution_count": null,
   "id": "16127c31",
   "metadata": {},
   "outputs": [],
   "source": [
    "data.hist(bins=50, figsize=(20,15))\n",
    "plt.show()"
   ]
  },
  {
   "cell_type": "code",
   "execution_count": null,
   "id": "352dc2d2",
   "metadata": {},
   "outputs": [],
   "source": [
    "from pandas.plotting import scatter_matrix"
   ]
  },
  {
   "cell_type": "code",
   "execution_count": null,
   "id": "11926662",
   "metadata": {},
   "outputs": [],
   "source": [
    "attributes = [\"price\", \"lotsize_sq_ft\", \"bedrooms\", \"bathrooms\"]\n",
    "scatter_matrix(data[attributes], figsize=(12,8))"
   ]
  },
  {
   "cell_type": "code",
   "execution_count": null,
   "id": "c3c6b509",
   "metadata": {},
   "outputs": [],
   "source": [
    "data.plot(kind=\"scatter\", x=\"lotsize_sq_ft\", y=\"price\", \n",
    "          alpha=0.4,\n",
    "          s=30, \n",
    "          c=\"bedrooms\", \n",
    "          cmap=plt.get_cmap(\"jet\"), colorbar=True,\n",
    "          figsize=(10,7),)\n",
    "plt.legend()\n",
    "plt.title(\"Price Vs. Lot Size \\n by Number of Bedrooms\")\n",
    "plt.xlabel(\"Lot Size\")\n",
    "plt.ylabel(\"Price\")"
   ]
  },
  {
   "cell_type": "code",
   "execution_count": null,
   "id": "599c29ca",
   "metadata": {},
   "outputs": [],
   "source": [
    "data.plot(kind=\"scatter\", x=\"lotsize_sq_ft\", y=\"price\", \n",
    "          alpha=0.4,\n",
    "          s=30, \n",
    "          c=\"bathrooms\", \n",
    "          cmap=plt.get_cmap(\"jet\"), colorbar=True,\n",
    "          figsize=(10,7),)\n",
    "plt.legend()\n",
    "plt.title(\"Price Vs. Lot Size \\n by Number of Bathrooms\")\n",
    "plt.xlabel(\"Lot Size\")\n",
    "plt.ylabel(\"Price\")"
   ]
  },
  {
   "cell_type": "code",
   "execution_count": null,
   "id": "55306a06",
   "metadata": {},
   "outputs": [],
   "source": [
    "data.plot(kind=\"scatter\", x=\"lotsize_sq_ft\", y=\"price\", \n",
    "          alpha=0.4,\n",
    "          s=30, \n",
    "          c=\"stories\", \n",
    "          cmap=plt.get_cmap(\"jet\"), colorbar=True,\n",
    "          figsize=(10,7),)\n",
    "plt.legend()\n",
    "plt.title(\"Price Vs. Lot Size \\n by Number of Stories\")\n",
    "plt.xlabel(\"Lot Size\")\n",
    "plt.ylabel(\"Price\")"
   ]
  },
  {
   "cell_type": "code",
   "execution_count": null,
   "id": "71faa9f9",
   "metadata": {},
   "outputs": [],
   "source": [
    "sns.boxplot(x='bathrooms', y='price', data=data, palette=\"vlag\")"
   ]
  },
  {
   "cell_type": "code",
   "execution_count": null,
   "id": "c7b8b702",
   "metadata": {},
   "outputs": [],
   "source": [
    "sns.boxplot(x='bedrooms', y='price', data=data, palette=\"vlag\")"
   ]
  },
  {
   "cell_type": "code",
   "execution_count": null,
   "id": "d995127e",
   "metadata": {},
   "outputs": [],
   "source": [
    "sns.boxplot(x='stories', y='price', data=data, palette=\"vlag\")"
   ]
  },
  {
   "cell_type": "code",
   "execution_count": null,
   "id": "1993c8f8",
   "metadata": {},
   "outputs": [],
   "source": [
    "sns.boxplot(x='driveway', y='price', data=data, palette=\"vlag\")"
   ]
  },
  {
   "cell_type": "code",
   "execution_count": null,
   "id": "a98a6003",
   "metadata": {},
   "outputs": [],
   "source": [
    "sns.boxplot(x='games_room', y='price', data=data, palette=\"vlag\")"
   ]
  },
  {
   "cell_type": "code",
   "execution_count": null,
   "id": "287b593c",
   "metadata": {},
   "outputs": [],
   "source": [
    "sns.boxplot(x='basement', y='price', data=data, palette=\"vlag\")"
   ]
  },
  {
   "cell_type": "code",
   "execution_count": null,
   "id": "4a81f199",
   "metadata": {},
   "outputs": [],
   "source": [
    "sns.boxplot(x='gas_for_water_heating', y='price', data=data, palette=\"vlag\")"
   ]
  },
  {
   "cell_type": "code",
   "execution_count": null,
   "id": "e75231bf",
   "metadata": {},
   "outputs": [],
   "source": [
    "sns.boxplot(x='air_con', y='price', data=data, palette=\"vlag\")"
   ]
  },
  {
   "cell_type": "code",
   "execution_count": null,
   "id": "dde59325",
   "metadata": {},
   "outputs": [],
   "source": [
    "sns.boxplot(x='no_garage_places', y='price', data=data, palette=\"vlag\")"
   ]
  },
  {
   "cell_type": "code",
   "execution_count": null,
   "id": "bea0c198",
   "metadata": {},
   "outputs": [],
   "source": [
    "sns.boxplot(x='nice_area', y='price', data=data, palette=\"vlag\")"
   ]
  },
  {
   "cell_type": "code",
   "execution_count": null,
   "id": "f77c4ba8",
   "metadata": {},
   "outputs": [],
   "source": [
    "# plt.figure(figsize=(16, 6))\n",
    "# heatmap = sns.heatmap(data.corr(), vmin=-1, vmax=1, annot=True)\n",
    "# heatmap.set_title('Correlation Heatmap', fontdict={'fontsize':12}, pad=12);"
   ]
  },
  {
   "cell_type": "code",
   "execution_count": null,
   "id": "86cfc372",
   "metadata": {},
   "outputs": [],
   "source": [
    "plt.figure(figsize=(12, 6))\n",
    "mask = np.triu(np.ones_like(data.corr(), dtype=np.bool))\n",
    "heatmap = sns.heatmap(data.corr(), mask=mask, vmin=-1, vmax=1, annot=True, cmap='BrBG')\n",
    "heatmap.set_title('Triangle Correlation Heatmap', fontdict={'fontsize':18}, pad=16);\n",
    "# https://medium.com/@szabo.bibor/how-to-create-a-seaborn-correlation-heatmap-in-python-834c0686b88e"
   ]
  },
  {
   "cell_type": "code",
   "execution_count": null,
   "id": "ae55417f",
   "metadata": {},
   "outputs": [],
   "source": [
    "plt.figure(figsize=(6, 6))\n",
    "heatmap = sns.heatmap(data.corr()[['price']].sort_values(by='price', ascending=False), vmin=-1, vmax=1, annot=True, cmap='BrBG')\n",
    "heatmap.set_title('Features Correlating with House Price', fontdict={'fontsize':18}, pad=16);"
   ]
  }
 ],
 "metadata": {
  "kernelspec": {
   "display_name": "Python 3 (ipykernel)",
   "language": "python",
   "name": "python3"
  },
  "language_info": {
   "codemirror_mode": {
    "name": "ipython",
    "version": 3
   },
   "file_extension": ".py",
   "mimetype": "text/x-python",
   "name": "python",
   "nbconvert_exporter": "python",
   "pygments_lexer": "ipython3",
   "version": "3.9.12"
  }
 },
 "nbformat": 4,
 "nbformat_minor": 5
}
